{
  "cells": [
    {
      "cell_type": "code",
      "execution_count": 1,
      "id": "c8deea88",
      "metadata": {
        "id": "c8deea88"
      },
      "outputs": [],
      "source": [
        "import pandas as pd\n",
        "import numpy as np\n",
        "import matplotlib.pyplot as plt\n",
        "import seaborn as sns\n",
        "%matplotlib inline"
      ]
    },
    {
      "cell_type": "code",
      "execution_count": 2,
      "id": "c9d0bc24",
      "metadata": {
        "id": "c9d0bc24"
      },
      "outputs": [],
      "source": [
        "df = pd.read_csv(\"Processed_heart.csv\")"
      ]
    },
    {
      "cell_type": "code",
      "execution_count": 3,
      "id": "064d4fea",
      "metadata": {
        "colab": {
          "base_uri": "https://localhost:8080/",
          "height": 206
        },
        "id": "064d4fea",
        "outputId": "954a95f0-6e4b-4b4e-d65c-494d6522d238"
      },
      "outputs": [
        {
          "output_type": "execute_result",
          "data": {
            "text/plain": [
              "   Age  Sex  ChestPainType  RestingBP  Cholesterol  FastingBS  RestingECG  \\\n",
              "0   40    0              0        140          289          0           0   \n",
              "1   49    1              1        160          180          0           0   \n",
              "2   37    0              0        130          283          0           1   \n",
              "3   48    1              2        138          214          0           0   \n",
              "4   54    0              1        150          195          0           0   \n",
              "\n",
              "   MaxHR  ExerciseAngina  Oldpeak  ST_Slope  HeartDisease  \n",
              "0    172               0      0.0         0             0  \n",
              "1    156               0      1.0         1             1  \n",
              "2     98               0      0.0         0             0  \n",
              "3    108               1      1.5         1             1  \n",
              "4    122               0      0.0         0             0  "
            ],
            "text/html": [
              "\n",
              "  <div id=\"df-644b0390-0414-46a1-b827-e5017bd641ba\">\n",
              "    <div class=\"colab-df-container\">\n",
              "      <div>\n",
              "<style scoped>\n",
              "    .dataframe tbody tr th:only-of-type {\n",
              "        vertical-align: middle;\n",
              "    }\n",
              "\n",
              "    .dataframe tbody tr th {\n",
              "        vertical-align: top;\n",
              "    }\n",
              "\n",
              "    .dataframe thead th {\n",
              "        text-align: right;\n",
              "    }\n",
              "</style>\n",
              "<table border=\"1\" class=\"dataframe\">\n",
              "  <thead>\n",
              "    <tr style=\"text-align: right;\">\n",
              "      <th></th>\n",
              "      <th>Age</th>\n",
              "      <th>Sex</th>\n",
              "      <th>ChestPainType</th>\n",
              "      <th>RestingBP</th>\n",
              "      <th>Cholesterol</th>\n",
              "      <th>FastingBS</th>\n",
              "      <th>RestingECG</th>\n",
              "      <th>MaxHR</th>\n",
              "      <th>ExerciseAngina</th>\n",
              "      <th>Oldpeak</th>\n",
              "      <th>ST_Slope</th>\n",
              "      <th>HeartDisease</th>\n",
              "    </tr>\n",
              "  </thead>\n",
              "  <tbody>\n",
              "    <tr>\n",
              "      <th>0</th>\n",
              "      <td>40</td>\n",
              "      <td>0</td>\n",
              "      <td>0</td>\n",
              "      <td>140</td>\n",
              "      <td>289</td>\n",
              "      <td>0</td>\n",
              "      <td>0</td>\n",
              "      <td>172</td>\n",
              "      <td>0</td>\n",
              "      <td>0.0</td>\n",
              "      <td>0</td>\n",
              "      <td>0</td>\n",
              "    </tr>\n",
              "    <tr>\n",
              "      <th>1</th>\n",
              "      <td>49</td>\n",
              "      <td>1</td>\n",
              "      <td>1</td>\n",
              "      <td>160</td>\n",
              "      <td>180</td>\n",
              "      <td>0</td>\n",
              "      <td>0</td>\n",
              "      <td>156</td>\n",
              "      <td>0</td>\n",
              "      <td>1.0</td>\n",
              "      <td>1</td>\n",
              "      <td>1</td>\n",
              "    </tr>\n",
              "    <tr>\n",
              "      <th>2</th>\n",
              "      <td>37</td>\n",
              "      <td>0</td>\n",
              "      <td>0</td>\n",
              "      <td>130</td>\n",
              "      <td>283</td>\n",
              "      <td>0</td>\n",
              "      <td>1</td>\n",
              "      <td>98</td>\n",
              "      <td>0</td>\n",
              "      <td>0.0</td>\n",
              "      <td>0</td>\n",
              "      <td>0</td>\n",
              "    </tr>\n",
              "    <tr>\n",
              "      <th>3</th>\n",
              "      <td>48</td>\n",
              "      <td>1</td>\n",
              "      <td>2</td>\n",
              "      <td>138</td>\n",
              "      <td>214</td>\n",
              "      <td>0</td>\n",
              "      <td>0</td>\n",
              "      <td>108</td>\n",
              "      <td>1</td>\n",
              "      <td>1.5</td>\n",
              "      <td>1</td>\n",
              "      <td>1</td>\n",
              "    </tr>\n",
              "    <tr>\n",
              "      <th>4</th>\n",
              "      <td>54</td>\n",
              "      <td>0</td>\n",
              "      <td>1</td>\n",
              "      <td>150</td>\n",
              "      <td>195</td>\n",
              "      <td>0</td>\n",
              "      <td>0</td>\n",
              "      <td>122</td>\n",
              "      <td>0</td>\n",
              "      <td>0.0</td>\n",
              "      <td>0</td>\n",
              "      <td>0</td>\n",
              "    </tr>\n",
              "  </tbody>\n",
              "</table>\n",
              "</div>\n",
              "      <button class=\"colab-df-convert\" onclick=\"convertToInteractive('df-644b0390-0414-46a1-b827-e5017bd641ba')\"\n",
              "              title=\"Convert this dataframe to an interactive table.\"\n",
              "              style=\"display:none;\">\n",
              "        \n",
              "  <svg xmlns=\"http://www.w3.org/2000/svg\" height=\"24px\"viewBox=\"0 0 24 24\"\n",
              "       width=\"24px\">\n",
              "    <path d=\"M0 0h24v24H0V0z\" fill=\"none\"/>\n",
              "    <path d=\"M18.56 5.44l.94 2.06.94-2.06 2.06-.94-2.06-.94-.94-2.06-.94 2.06-2.06.94zm-11 1L8.5 8.5l.94-2.06 2.06-.94-2.06-.94L8.5 2.5l-.94 2.06-2.06.94zm10 10l.94 2.06.94-2.06 2.06-.94-2.06-.94-.94-2.06-.94 2.06-2.06.94z\"/><path d=\"M17.41 7.96l-1.37-1.37c-.4-.4-.92-.59-1.43-.59-.52 0-1.04.2-1.43.59L10.3 9.45l-7.72 7.72c-.78.78-.78 2.05 0 2.83L4 21.41c.39.39.9.59 1.41.59.51 0 1.02-.2 1.41-.59l7.78-7.78 2.81-2.81c.8-.78.8-2.07 0-2.86zM5.41 20L4 18.59l7.72-7.72 1.47 1.35L5.41 20z\"/>\n",
              "  </svg>\n",
              "      </button>\n",
              "      \n",
              "  <style>\n",
              "    .colab-df-container {\n",
              "      display:flex;\n",
              "      flex-wrap:wrap;\n",
              "      gap: 12px;\n",
              "    }\n",
              "\n",
              "    .colab-df-convert {\n",
              "      background-color: #E8F0FE;\n",
              "      border: none;\n",
              "      border-radius: 50%;\n",
              "      cursor: pointer;\n",
              "      display: none;\n",
              "      fill: #1967D2;\n",
              "      height: 32px;\n",
              "      padding: 0 0 0 0;\n",
              "      width: 32px;\n",
              "    }\n",
              "\n",
              "    .colab-df-convert:hover {\n",
              "      background-color: #E2EBFA;\n",
              "      box-shadow: 0px 1px 2px rgba(60, 64, 67, 0.3), 0px 1px 3px 1px rgba(60, 64, 67, 0.15);\n",
              "      fill: #174EA6;\n",
              "    }\n",
              "\n",
              "    [theme=dark] .colab-df-convert {\n",
              "      background-color: #3B4455;\n",
              "      fill: #D2E3FC;\n",
              "    }\n",
              "\n",
              "    [theme=dark] .colab-df-convert:hover {\n",
              "      background-color: #434B5C;\n",
              "      box-shadow: 0px 1px 3px 1px rgba(0, 0, 0, 0.15);\n",
              "      filter: drop-shadow(0px 1px 2px rgba(0, 0, 0, 0.3));\n",
              "      fill: #FFFFFF;\n",
              "    }\n",
              "  </style>\n",
              "\n",
              "      <script>\n",
              "        const buttonEl =\n",
              "          document.querySelector('#df-644b0390-0414-46a1-b827-e5017bd641ba button.colab-df-convert');\n",
              "        buttonEl.style.display =\n",
              "          google.colab.kernel.accessAllowed ? 'block' : 'none';\n",
              "\n",
              "        async function convertToInteractive(key) {\n",
              "          const element = document.querySelector('#df-644b0390-0414-46a1-b827-e5017bd641ba');\n",
              "          const dataTable =\n",
              "            await google.colab.kernel.invokeFunction('convertToInteractive',\n",
              "                                                     [key], {});\n",
              "          if (!dataTable) return;\n",
              "\n",
              "          const docLinkHtml = 'Like what you see? Visit the ' +\n",
              "            '<a target=\"_blank\" href=https://colab.research.google.com/notebooks/data_table.ipynb>data table notebook</a>'\n",
              "            + ' to learn more about interactive tables.';\n",
              "          element.innerHTML = '';\n",
              "          dataTable['output_type'] = 'display_data';\n",
              "          await google.colab.output.renderOutput(dataTable, element);\n",
              "          const docLink = document.createElement('div');\n",
              "          docLink.innerHTML = docLinkHtml;\n",
              "          element.appendChild(docLink);\n",
              "        }\n",
              "      </script>\n",
              "    </div>\n",
              "  </div>\n",
              "  "
            ]
          },
          "metadata": {},
          "execution_count": 3
        }
      ],
      "source": [
        "df.head()"
      ]
    },
    {
      "cell_type": "code",
      "execution_count": 4,
      "id": "0781536c",
      "metadata": {
        "id": "0781536c"
      },
      "outputs": [],
      "source": [
        "X=df[['Age','Sex','ChestPainType','Cholesterol','MaxHR','RestingBP','FastingBS','RestingECG','ExerciseAngina', 'Oldpeak', 'ST_Slope']]\n",
        "Y=df['HeartDisease']"
      ]
    },
    {
      "cell_type": "code",
      "execution_count": 5,
      "id": "875b8399",
      "metadata": {
        "id": "875b8399"
      },
      "outputs": [],
      "source": [
        "from sklearn.preprocessing import StandardScaler\n",
        "sc=StandardScaler()\n",
        "X_std=sc.fit_transform(X)"
      ]
    },
    {
      "cell_type": "code",
      "execution_count": 6,
      "id": "10880228",
      "metadata": {
        "id": "10880228"
      },
      "outputs": [],
      "source": [
        "from sklearn.model_selection import train_test_split\n",
        "X_train, X_test, y_train, y_test = train_test_split(X_std, Y, test_size=0.30, random_state=0)"
      ]
    },
    {
      "cell_type": "markdown",
      "id": "cc25e4a3",
      "metadata": {
        "id": "cc25e4a3"
      },
      "source": [
        "# Decision Tree"
      ]
    },
    {
      "cell_type": "code",
      "execution_count": 7,
      "id": "531be4d8",
      "metadata": {
        "colab": {
          "base_uri": "https://localhost:8080/"
        },
        "id": "531be4d8",
        "outputId": "dc2add3b-db5b-47b0-96d8-5c380b667819"
      },
      "outputs": [
        {
          "output_type": "execute_result",
          "data": {
            "text/plain": [
              "GridSearchCV(cv=KFold(n_splits=5, random_state=0, shuffle=True),\n",
              "             estimator=DecisionTreeClassifier(random_state=0),\n",
              "             param_grid={'criterion': ['entropy', 'gini'],\n",
              "                         'max_depth': array([2, 3, 4, 5, 6, 7, 8, 9])},\n",
              "             scoring='f1_weighted')"
            ]
          },
          "metadata": {},
          "execution_count": 7
        }
      ],
      "source": [
        "from sklearn.tree import DecisionTreeClassifier\n",
        "from sklearn.model_selection import KFold,cross_val_score,GridSearchCV\n",
        "\n",
        "DT = DecisionTreeClassifier(random_state=0)\n",
        "\n",
        "params={'max_depth':np.arange(2,10),'criterion':['entropy','gini']}\n",
        "kf=KFold(n_splits=5,shuffle=True,random_state=0)\n",
        "GS=GridSearchCV(DT,params,cv=kf,scoring='f1_weighted')\n",
        "GS.fit(X_std,Y)"
      ]
    },
    {
      "cell_type": "code",
      "execution_count": 8,
      "id": "15d8208a",
      "metadata": {
        "colab": {
          "base_uri": "https://localhost:8080/"
        },
        "id": "15d8208a",
        "outputId": "de442c63-009a-4f5a-f40c-3f45832b1b43"
      },
      "outputs": [
        {
          "output_type": "execute_result",
          "data": {
            "text/plain": [
              "DecisionTreeClassifier(criterion='entropy', max_depth=5, random_state=0)"
            ]
          },
          "metadata": {},
          "execution_count": 8
        }
      ],
      "source": [
        "GS.best_estimator_"
      ]
    },
    {
      "cell_type": "code",
      "execution_count": 9,
      "id": "0261e5c4",
      "metadata": {
        "colab": {
          "base_uri": "https://localhost:8080/"
        },
        "id": "0261e5c4",
        "outputId": "089b9aa2-adbb-42f6-851b-e2224593351c"
      },
      "outputs": [
        {
          "output_type": "stream",
          "name": "stdout",
          "text": [
            "Train Accuracy :  89.8753894080997\n",
            "Test Accuracy :  81.15942028985508\n",
            "Bias Error :  0.8440378571748874\n",
            "Varience :  0.03962329984900019\n"
          ]
        }
      ],
      "source": [
        "dt_reg=DecisionTreeClassifier(criterion='entropy', max_depth=5, random_state=0)\n",
        "dt_reg.fit(X_train,y_train)\n",
        "\n",
        "y_train_pred = dt_reg.predict(X_train)\n",
        "y_test_pred = dt_reg.predict(X_test)\n",
        "\n",
        "from sklearn import metrics\n",
        "\n",
        "acc_train=metrics.accuracy_score(y_train,y_train_pred)\n",
        "print(\"Train Accuracy : \",acc_train*100)\n",
        "acc_test=metrics.accuracy_score(y_test,y_test_pred)\n",
        "print(\"Test Accuracy : \",acc_test*100)\n",
        "\n",
        "from sklearn.model_selection import KFold,cross_val_score,GridSearchCV\n",
        "\n",
        "#validate model performance using K-fold Cross Validation using roc scoring\n",
        "kf=KFold(n_splits=5,shuffle=True,random_state=0)\n",
        "scores=cross_val_score(dt_reg,X_std,Y,cv=kf,scoring='f1_weighted')\n",
        "\n",
        "print(\"Bias Error : \",np.mean(scores))\n",
        "\n",
        "print(\"Varience : \",np.std(scores, ddof= 1))"
      ]
    },
    {
      "cell_type": "markdown",
      "id": "e00f6f18",
      "metadata": {
        "id": "e00f6f18"
      },
      "source": [
        "# Random Forest with RandomSearchCV"
      ]
    },
    {
      "cell_type": "code",
      "execution_count": 10,
      "id": "6ccfbf74",
      "metadata": {
        "id": "6ccfbf74"
      },
      "outputs": [],
      "source": [
        "n_estimators = range(3,200,5) # number of trees in the random forest\n",
        "max_features = ['auto', 'sqrt'] # number of features in consideration at every split\n",
        "max_depth = [int(x) for x in np.linspace(10, 120, num = 12)] # maximum number of levels allowed in each decision tree\n",
        "min_samples_split = [2, 6, 10] # minimum sample number to split a node\n",
        "min_samples_leaf = [1, 3, 4] # minimum sample number that can be stored in a leaf node\n",
        "bootstrap = [True, False] # method used to sample data points\n",
        "\n",
        "random_grid = {'n_estimators': n_estimators,\n",
        "\n",
        "'max_features': max_features,\n",
        "\n",
        "'max_depth': max_depth,\n",
        "\n",
        "'min_samples_split': min_samples_split,\n",
        "\n",
        "'min_samples_leaf': min_samples_leaf,\n",
        "\n",
        "'bootstrap': bootstrap}"
      ]
    },
    {
      "cell_type": "code",
      "execution_count": 11,
      "id": "66535da1",
      "metadata": {
        "id": "66535da1"
      },
      "outputs": [],
      "source": [
        "from sklearn.ensemble import RandomForestClassifier\n",
        "from sklearn.model_selection import RandomizedSearchCV\n",
        "RF=RandomForestClassifier(random_state=0)\n",
        "rf_random = RandomizedSearchCV(estimator = RF,param_distributions = random_grid,\n",
        "               n_iter = 100, cv = 5, verbose=2, random_state=0, n_jobs = -1)"
      ]
    },
    {
      "cell_type": "code",
      "execution_count": 12,
      "id": "f48fd667",
      "metadata": {
        "colab": {
          "base_uri": "https://localhost:8080/"
        },
        "id": "f48fd667",
        "outputId": "6fcfcbdc-38d7-4fc9-d779-12421e8ec1e6"
      },
      "outputs": [
        {
          "output_type": "stream",
          "name": "stdout",
          "text": [
            "Fitting 5 folds for each of 100 candidates, totalling 500 fits\n"
          ]
        },
        {
          "output_type": "execute_result",
          "data": {
            "text/plain": [
              "RandomizedSearchCV(cv=5, estimator=RandomForestClassifier(random_state=0),\n",
              "                   n_iter=100, n_jobs=-1,\n",
              "                   param_distributions={'bootstrap': [True, False],\n",
              "                                        'max_depth': [10, 20, 30, 40, 50, 60,\n",
              "                                                      70, 80, 90, 100, 110,\n",
              "                                                      120],\n",
              "                                        'max_features': ['auto', 'sqrt'],\n",
              "                                        'min_samples_leaf': [1, 3, 4],\n",
              "                                        'min_samples_split': [2, 6, 10],\n",
              "                                        'n_estimators': range(3, 200, 5)},\n",
              "                   random_state=0, verbose=2)"
            ]
          },
          "metadata": {},
          "execution_count": 12
        }
      ],
      "source": [
        "rf_random.fit(X_std, Y)"
      ]
    },
    {
      "cell_type": "code",
      "execution_count": 13,
      "id": "5f264f69",
      "metadata": {
        "colab": {
          "base_uri": "https://localhost:8080/"
        },
        "id": "5f264f69",
        "outputId": "afe39e1a-2e95-47be-b76a-76c1a7ee2aca"
      },
      "outputs": [
        {
          "output_type": "stream",
          "name": "stdout",
          "text": [
            "Random grid:  {'n_estimators': range(3, 200, 5), 'max_features': ['auto', 'sqrt'], 'max_depth': [10, 20, 30, 40, 50, 60, 70, 80, 90, 100, 110, 120], 'min_samples_split': [2, 6, 10], 'min_samples_leaf': [1, 3, 4], 'bootstrap': [True, False]} \n",
            "\n",
            "Best Parameters:  {'n_estimators': 113, 'min_samples_split': 10, 'min_samples_leaf': 4, 'max_features': 'sqrt', 'max_depth': 120, 'bootstrap': True}  \n",
            "\n",
            "Best Score:  0.83976003801378  \n",
            "\n",
            "Best Estimatore :  RandomForestClassifier(max_depth=120, max_features='sqrt', min_samples_leaf=4,\n",
            "                       min_samples_split=10, n_estimators=113, random_state=0) \n",
            "\n"
          ]
        }
      ],
      "source": [
        "print('Random grid: ', random_grid, '\\n')\n",
        "# print the best parameters\n",
        "print('Best Parameters: ', rf_random.best_params_, ' \\n')\n",
        "print('Best Score: ', rf_random.best_score_, ' \\n')\n",
        "print('Best Estimatore : ', rf_random.best_estimator_ ,'\\n')"
      ]
    },
    {
      "cell_type": "code",
      "execution_count": 14,
      "id": "2c55a60f",
      "metadata": {
        "colab": {
          "base_uri": "https://localhost:8080/"
        },
        "id": "2c55a60f",
        "outputId": "8be645ca-a027-4997-8efd-1e231cf698a3"
      },
      "outputs": [
        {
          "output_type": "stream",
          "name": "stdout",
          "text": [
            "Train Accuracy :  91.74454828660437\n",
            "Test Accuracy :  85.14492753623189\n",
            "Bias Error :  0.8731077556083943\n",
            "Varience :  0.0186854168611879\n"
          ]
        }
      ],
      "source": [
        "rf_reg = RandomForestClassifier(max_depth=120, max_features='sqrt', min_samples_leaf=4,\n",
        "                       min_samples_split=10, n_estimators=113, random_state=0) \n",
        "\n",
        "rf_reg.fit(X_train,y_train)\n",
        "\n",
        "y_train_pred = rf_reg.predict(X_train)\n",
        "y_test_pred = rf_reg.predict(X_test)\n",
        "\n",
        "\n",
        "from sklearn import metrics\n",
        "\n",
        "acc_train=metrics.accuracy_score(y_train,y_train_pred)\n",
        "print(\"Train Accuracy : \",acc_train*100)\n",
        "acc_test=metrics.accuracy_score(y_test,y_test_pred)\n",
        "print(\"Test Accuracy : \",acc_test*100)\n",
        "\n",
        "from sklearn.model_selection import KFold,cross_val_score,GridSearchCV\n",
        "\n",
        "#validate model performance using K-fold Cross Validation using roc scoring\n",
        "kf=KFold(n_splits=5,shuffle=True,random_state=0)\n",
        "scores=cross_val_score(rf_reg,X_std,Y,cv=kf,scoring='f1_weighted')\n",
        "\n",
        "print(\"Bias Error : \",np.mean(scores))\n",
        "\n",
        "print(\"Varience : \",np.std(scores, ddof= 1))"
      ]
    },
    {
      "cell_type": "markdown",
      "id": "966169f5",
      "metadata": {
        "id": "966169f5"
      },
      "source": [
        "# AdaBoosting with GridSearch Tunning"
      ]
    },
    {
      "cell_type": "code",
      "source": [
        "model = AdaBoostClassifier()\n",
        "\n",
        "model.get_params().keys()"
      ],
      "metadata": {
        "colab": {
          "base_uri": "https://localhost:8080/"
        },
        "id": "fdHxeAZuGfN2",
        "outputId": "ab19960e-4802-4b78-ef4c-a99820189fe2"
      },
      "id": "fdHxeAZuGfN2",
      "execution_count": 33,
      "outputs": [
        {
          "output_type": "execute_result",
          "data": {
            "text/plain": [
              "dict_keys(['algorithm', 'base_estimator', 'learning_rate', 'n_estimators', 'random_state'])"
            ]
          },
          "metadata": {},
          "execution_count": 33
        }
      ]
    },
    {
      "cell_type": "code",
      "execution_count": 34,
      "id": "16446836",
      "metadata": {
        "colab": {
          "base_uri": "https://localhost:8080/"
        },
        "id": "16446836",
        "outputId": "2aca6f87-ab78-438d-f327-bf68f2ea4b44"
      },
      "outputs": [
        {
          "output_type": "stream",
          "name": "stdout",
          "text": [
            "Fitting 30 folds for each of 50 candidates, totalling 1500 fits\n"
          ]
        },
        {
          "output_type": "stream",
          "name": "stderr",
          "text": [
            "/usr/local/lib/python3.7/dist-packages/sklearn/model_selection/_search.py:296: UserWarning: The total space of parameters 50 is smaller than n_iter=100. Running 50 iterations. For exhaustive searches, use GridSearchCV.\n",
            "  UserWarning,\n"
          ]
        },
        {
          "output_type": "execute_result",
          "data": {
            "text/plain": [
              "RandomizedSearchCV(cv=RepeatedStratifiedKFold(n_repeats=3, n_splits=10, random_state=1),\n",
              "                   estimator=AdaBoostClassifier(), n_iter=100, n_jobs=-1,\n",
              "                   param_distributions={'learning_rate': [0.0001, 0.001, 0.01,\n",
              "                                                          0.1, 1.0],\n",
              "                                        'n_estimators': range(170, 180)},\n",
              "                   random_state=0, verbose=2)"
            ]
          },
          "metadata": {},
          "execution_count": 34
        }
      ],
      "source": [
        "from sklearn.model_selection import RepeatedStratifiedKFold\n",
        "model = AdaBoostClassifier()\n",
        "# define the grid of values to search\n",
        "ada_grid = dict()\n",
        "ada_grid['n_estimators'] = range(170,180)\n",
        "ada_grid['learning_rate'] = [0.0001, 0.001, 0.01, 0.1, 1.0]\n",
        "# define the evaluation procedure\n",
        "cv = RepeatedStratifiedKFold(n_splits=10, n_repeats=3, random_state=1)\n",
        "# define the grid search procedure\n",
        "ada_grid_search = RandomizedSearchCV(estimator = model,param_distributions = ada_grid,\n",
        "               n_iter = 100, cv = cv, verbose=2, random_state=0, n_jobs = -1)\n",
        "# execute the grid search\n",
        "ada_grid_search.fit(X_std, Y)"
      ]
    },
    {
      "cell_type": "code",
      "execution_count": 35,
      "id": "65247341",
      "metadata": {
        "colab": {
          "base_uri": "https://localhost:8080/"
        },
        "id": "65247341",
        "outputId": "31abcfaa-d37b-4cec-f413-ea5a6c623182"
      },
      "outputs": [
        {
          "output_type": "stream",
          "name": "stdout",
          "text": [
            "Random grid:  {'n_estimators': range(170, 180), 'learning_rate': [0.0001, 0.001, 0.01, 0.1, 1.0]} \n",
            "\n",
            "Best Parameters:  {'n_estimators': 175, 'learning_rate': 0.1}  \n",
            "\n",
            "Best Score:  0.8656872113393852  \n",
            "\n",
            "Best Estimatore :  AdaBoostClassifier(learning_rate=0.1, n_estimators=175) \n",
            "\n"
          ]
        }
      ],
      "source": [
        "print('Random grid: ', ada_grid, '\\n')\n",
        "# print the best parameters\n",
        "print('Best Parameters: ', ada_grid_search.best_params_, ' \\n')\n",
        "print('Best Score: ', ada_grid_search.best_score_, ' \\n')\n",
        "print('Best Estimatore : ', ada_grid_search.best_estimator_ ,'\\n')"
      ]
    },
    {
      "cell_type": "code",
      "source": [
        "ada_reg = ada_grid_search.best_estimator_\n",
        "\n",
        "ada_reg.fit(X_train,y_train)\n",
        "\n",
        "y_train_pred = ada_reg.predict(X_train)\n",
        "y_test_pred = ada_reg.predict(X_test)\n",
        "\n",
        "\n",
        "from sklearn import metrics\n",
        "\n",
        "acc_train=metrics.accuracy_score(y_train,y_train_pred)\n",
        "print(\"Train Accuracy : \",acc_train*100)\n",
        "acc_test=metrics.accuracy_score(y_test,y_test_pred)\n",
        "print(\"Test Accuracy : \",acc_test*100)\n",
        "\n",
        "from sklearn.model_selection import KFold,cross_val_score,GridSearchCV\n",
        "\n",
        "#validate model performance using K-fold Cross Validation using roc scoring\n",
        "kf=KFold(n_splits=5,shuffle=True,random_state=0)\n",
        "scores=cross_val_score(ada_reg,X_std,Y,cv=kf,scoring='f1_weighted')\n",
        "\n",
        "print(\"Bias Error : \",np.mean(scores))\n",
        "\n",
        "print(\"Varience : \",np.std(scores, ddof= 1))"
      ],
      "metadata": {
        "colab": {
          "base_uri": "https://localhost:8080/"
        },
        "id": "oU5sEaYI2B8G",
        "outputId": "f3fd098f-4720-440c-e2dd-9aea1ff91fc8"
      },
      "id": "oU5sEaYI2B8G",
      "execution_count": 36,
      "outputs": [
        {
          "output_type": "stream",
          "name": "stdout",
          "text": [
            "Train Accuracy :  88.47352024922118\n",
            "Test Accuracy :  84.78260869565217\n",
            "Bias Error :  0.8679071250737351\n",
            "Varience :  0.025073881241244007\n"
          ]
        }
      ]
    }
  ],
  "metadata": {
    "kernelspec": {
      "display_name": "Python 3 (ipykernel)",
      "language": "python",
      "name": "python3"
    },
    "language_info": {
      "codemirror_mode": {
        "name": "ipython",
        "version": 3
      },
      "file_extension": ".py",
      "mimetype": "text/x-python",
      "name": "python",
      "nbconvert_exporter": "python",
      "pygments_lexer": "ipython3",
      "version": "3.8.13"
    },
    "colab": {
      "name": "2-Model_Training.ipynb",
      "provenance": [],
      "collapsed_sections": []
    }
  },
  "nbformat": 4,
  "nbformat_minor": 5
}