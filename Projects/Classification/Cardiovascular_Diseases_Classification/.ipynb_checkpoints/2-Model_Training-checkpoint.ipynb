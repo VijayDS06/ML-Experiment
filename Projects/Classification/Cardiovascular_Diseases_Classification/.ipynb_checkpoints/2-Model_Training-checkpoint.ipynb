{
 "cells": [
  {
   "cell_type": "code",
   "execution_count": 1,
   "id": "c8deea88",
   "metadata": {},
   "outputs": [],
   "source": [
    "import pandas as pd\n",
    "import numpy as np\n",
    "import matplotlib.pyplot as plt\n",
    "import seaborn as sns\n",
    "%matplotlib inline"
   ]
  },
  {
   "cell_type": "code",
   "execution_count": 2,
   "id": "c9d0bc24",
   "metadata": {},
   "outputs": [],
   "source": [
    "df = pd.read_csv(\"Processed_heart.csv\")"
   ]
  },
  {
   "cell_type": "code",
   "execution_count": 3,
   "id": "064d4fea",
   "metadata": {},
   "outputs": [
    {
     "data": {
      "text/html": [
       "<div>\n",
       "<style scoped>\n",
       "    .dataframe tbody tr th:only-of-type {\n",
       "        vertical-align: middle;\n",
       "    }\n",
       "\n",
       "    .dataframe tbody tr th {\n",
       "        vertical-align: top;\n",
       "    }\n",
       "\n",
       "    .dataframe thead th {\n",
       "        text-align: right;\n",
       "    }\n",
       "</style>\n",
       "<table border=\"1\" class=\"dataframe\">\n",
       "  <thead>\n",
       "    <tr style=\"text-align: right;\">\n",
       "      <th></th>\n",
       "      <th>Age</th>\n",
       "      <th>Sex</th>\n",
       "      <th>ChestPainType</th>\n",
       "      <th>RestingBP</th>\n",
       "      <th>Cholesterol</th>\n",
       "      <th>FastingBS</th>\n",
       "      <th>RestingECG</th>\n",
       "      <th>MaxHR</th>\n",
       "      <th>ExerciseAngina</th>\n",
       "      <th>Oldpeak</th>\n",
       "      <th>ST_Slope</th>\n",
       "      <th>HeartDisease</th>\n",
       "    </tr>\n",
       "  </thead>\n",
       "  <tbody>\n",
       "    <tr>\n",
       "      <th>0</th>\n",
       "      <td>40</td>\n",
       "      <td>0</td>\n",
       "      <td>0</td>\n",
       "      <td>140</td>\n",
       "      <td>289</td>\n",
       "      <td>0</td>\n",
       "      <td>0</td>\n",
       "      <td>172</td>\n",
       "      <td>0</td>\n",
       "      <td>0.0</td>\n",
       "      <td>0</td>\n",
       "      <td>0</td>\n",
       "    </tr>\n",
       "    <tr>\n",
       "      <th>1</th>\n",
       "      <td>49</td>\n",
       "      <td>1</td>\n",
       "      <td>1</td>\n",
       "      <td>160</td>\n",
       "      <td>180</td>\n",
       "      <td>0</td>\n",
       "      <td>0</td>\n",
       "      <td>156</td>\n",
       "      <td>0</td>\n",
       "      <td>1.0</td>\n",
       "      <td>1</td>\n",
       "      <td>1</td>\n",
       "    </tr>\n",
       "    <tr>\n",
       "      <th>2</th>\n",
       "      <td>37</td>\n",
       "      <td>0</td>\n",
       "      <td>0</td>\n",
       "      <td>130</td>\n",
       "      <td>283</td>\n",
       "      <td>0</td>\n",
       "      <td>1</td>\n",
       "      <td>98</td>\n",
       "      <td>0</td>\n",
       "      <td>0.0</td>\n",
       "      <td>0</td>\n",
       "      <td>0</td>\n",
       "    </tr>\n",
       "    <tr>\n",
       "      <th>3</th>\n",
       "      <td>48</td>\n",
       "      <td>1</td>\n",
       "      <td>2</td>\n",
       "      <td>138</td>\n",
       "      <td>214</td>\n",
       "      <td>0</td>\n",
       "      <td>0</td>\n",
       "      <td>108</td>\n",
       "      <td>1</td>\n",
       "      <td>1.5</td>\n",
       "      <td>1</td>\n",
       "      <td>1</td>\n",
       "    </tr>\n",
       "    <tr>\n",
       "      <th>4</th>\n",
       "      <td>54</td>\n",
       "      <td>0</td>\n",
       "      <td>1</td>\n",
       "      <td>150</td>\n",
       "      <td>195</td>\n",
       "      <td>0</td>\n",
       "      <td>0</td>\n",
       "      <td>122</td>\n",
       "      <td>0</td>\n",
       "      <td>0.0</td>\n",
       "      <td>0</td>\n",
       "      <td>0</td>\n",
       "    </tr>\n",
       "  </tbody>\n",
       "</table>\n",
       "</div>"
      ],
      "text/plain": [
       "   Age  Sex  ChestPainType  RestingBP  Cholesterol  FastingBS  RestingECG  \\\n",
       "0   40    0              0        140          289          0           0   \n",
       "1   49    1              1        160          180          0           0   \n",
       "2   37    0              0        130          283          0           1   \n",
       "3   48    1              2        138          214          0           0   \n",
       "4   54    0              1        150          195          0           0   \n",
       "\n",
       "   MaxHR  ExerciseAngina  Oldpeak  ST_Slope  HeartDisease  \n",
       "0    172               0      0.0         0             0  \n",
       "1    156               0      1.0         1             1  \n",
       "2     98               0      0.0         0             0  \n",
       "3    108               1      1.5         1             1  \n",
       "4    122               0      0.0         0             0  "
      ]
     },
     "execution_count": 3,
     "metadata": {},
     "output_type": "execute_result"
    }
   ],
   "source": [
    "df.head()"
   ]
  },
  {
   "cell_type": "code",
   "execution_count": 4,
   "id": "0781536c",
   "metadata": {},
   "outputs": [],
   "source": [
    "X=df[['Age','Sex','ChestPainType','Cholesterol','MaxHR','RestingBP','FastingBS','RestingECG','ExerciseAngina', 'Oldpeak', 'ST_Slope']]\n",
    "Y=df['HeartDisease']"
   ]
  },
  {
   "cell_type": "code",
   "execution_count": 5,
   "id": "875b8399",
   "metadata": {},
   "outputs": [],
   "source": [
    "from sklearn.preprocessing import StandardScaler\n",
    "sc=StandardScaler()\n",
    "X_std=sc.fit_transform(X)"
   ]
  },
  {
   "cell_type": "code",
   "execution_count": 6,
   "id": "10880228",
   "metadata": {},
   "outputs": [],
   "source": [
    "from sklearn.model_selection import train_test_split\n",
    "X_train, X_test, y_train, y_test = train_test_split(X_std, Y, test_size=0.30, random_state=0)"
   ]
  },
  {
   "cell_type": "markdown",
   "id": "cc25e4a3",
   "metadata": {},
   "source": [
    "# Decision Tree"
   ]
  },
  {
   "cell_type": "code",
   "execution_count": 7,
   "id": "531be4d8",
   "metadata": {},
   "outputs": [
    {
     "data": {
      "text/plain": [
       "GridSearchCV(cv=KFold(n_splits=5, random_state=0, shuffle=True),\n",
       "             estimator=DecisionTreeClassifier(random_state=0),\n",
       "             param_grid={'criterion': ['entropy', 'gini'],\n",
       "                         'max_depth': array([2, 3, 4, 5, 6, 7, 8, 9])},\n",
       "             scoring='f1_weighted')"
      ]
     },
     "execution_count": 7,
     "metadata": {},
     "output_type": "execute_result"
    }
   ],
   "source": [
    "from sklearn.tree import DecisionTreeClassifier\n",
    "from sklearn.model_selection import KFold,cross_val_score,GridSearchCV\n",
    "\n",
    "DT = DecisionTreeClassifier(random_state=0)\n",
    "\n",
    "params={'max_depth':np.arange(2,10),'criterion':['entropy','gini']}\n",
    "kf=KFold(n_splits=5,shuffle=True,random_state=0)\n",
    "GS=GridSearchCV(DT,params,cv=kf,scoring='f1_weighted')\n",
    "GS.fit(X_std,Y)"
   ]
  },
  {
   "cell_type": "code",
   "execution_count": 8,
   "id": "15d8208a",
   "metadata": {},
   "outputs": [
    {
     "data": {
      "text/plain": [
       "DecisionTreeClassifier(criterion='entropy', max_depth=5, random_state=0)"
      ]
     },
     "execution_count": 8,
     "metadata": {},
     "output_type": "execute_result"
    }
   ],
   "source": [
    "GS.best_estimator_"
   ]
  },
  {
   "cell_type": "code",
   "execution_count": 9,
   "id": "0261e5c4",
   "metadata": {},
   "outputs": [
    {
     "name": "stdout",
     "output_type": "stream",
     "text": [
      "Train Accuracy :  89.8753894080997\n",
      "Test Accuracy :  81.15942028985508\n",
      "Bias Error :  0.8440378571748874\n",
      "Varience :  0.03962329984900019\n"
     ]
    }
   ],
   "source": [
    "dt_reg=DecisionTreeClassifier(criterion='entropy', max_depth=5, random_state=0)\n",
    "dt_reg.fit(X_train,y_train)\n",
    "\n",
    "y_train_pred = dt_reg.predict(X_train)\n",
    "y_test_pred = dt_reg.predict(X_test)\n",
    "\n",
    "from sklearn import metrics\n",
    "\n",
    "acc_train=metrics.accuracy_score(y_train,y_train_pred)\n",
    "print(\"Train Accuracy : \",acc_train*100)\n",
    "acc_test=metrics.accuracy_score(y_test,y_test_pred)\n",
    "print(\"Test Accuracy : \",acc_test*100)\n",
    "\n",
    "from sklearn.model_selection import KFold,cross_val_score,GridSearchCV\n",
    "\n",
    "#validate model performance using K-fold Cross Validation using roc scoring\n",
    "kf=KFold(n_splits=5,shuffle=True,random_state=0)\n",
    "scores=cross_val_score(dt_reg,X_std,Y,cv=kf,scoring='f1_weighted')\n",
    "\n",
    "print(\"Bias Error : \",np.mean(scores))\n",
    "\n",
    "print(\"Varience : \",np.std(scores, ddof= 1))"
   ]
  },
  {
   "cell_type": "markdown",
   "id": "e00f6f18",
   "metadata": {},
   "source": [
    "# Random Forest with RandomSearchCV"
   ]
  },
  {
   "cell_type": "code",
   "execution_count": 10,
   "id": "6ccfbf74",
   "metadata": {},
   "outputs": [],
   "source": [
    "n_estimators = range(3,200,5) # number of trees in the random forest\n",
    "max_features = ['auto', 'sqrt'] # number of features in consideration at every split\n",
    "max_depth = [int(x) for x in np.linspace(10, 120, num = 12)] # maximum number of levels allowed in each decision tree\n",
    "min_samples_split = [2, 6, 10] # minimum sample number to split a node\n",
    "min_samples_leaf = [1, 3, 4] # minimum sample number that can be stored in a leaf node\n",
    "bootstrap = [True, False] # method used to sample data points\n",
    "\n",
    "random_grid = {'n_estimators': n_estimators,\n",
    "\n",
    "'max_features': max_features,\n",
    "\n",
    "'max_depth': max_depth,\n",
    "\n",
    "'min_samples_split': min_samples_split,\n",
    "\n",
    "'min_samples_leaf': min_samples_leaf,\n",
    "\n",
    "'bootstrap': bootstrap}"
   ]
  },
  {
   "cell_type": "code",
   "execution_count": 11,
   "id": "66535da1",
   "metadata": {},
   "outputs": [],
   "source": [
    "from sklearn.ensemble import RandomForestClassifier\n",
    "from sklearn.model_selection import RandomizedSearchCV\n",
    "RF=RandomForestClassifier(random_state=0)\n",
    "rf_random = RandomizedSearchCV(estimator = RF,param_distributions = random_grid,\n",
    "               n_iter = 100, cv = 5, verbose=2, random_state=0, n_jobs = -1)"
   ]
  },
  {
   "cell_type": "code",
   "execution_count": 12,
   "id": "f48fd667",
   "metadata": {},
   "outputs": [
    {
     "name": "stdout",
     "output_type": "stream",
     "text": [
      "Fitting 5 folds for each of 100 candidates, totalling 500 fits\n"
     ]
    },
    {
     "data": {
      "text/plain": [
       "RandomizedSearchCV(cv=5, estimator=RandomForestClassifier(random_state=0),\n",
       "                   n_iter=100, n_jobs=-1,\n",
       "                   param_distributions={'bootstrap': [True, False],\n",
       "                                        'max_depth': [10, 20, 30, 40, 50, 60,\n",
       "                                                      70, 80, 90, 100, 110,\n",
       "                                                      120],\n",
       "                                        'max_features': ['auto', 'sqrt'],\n",
       "                                        'min_samples_leaf': [1, 3, 4],\n",
       "                                        'min_samples_split': [2, 6, 10],\n",
       "                                        'n_estimators': range(3, 200, 5)},\n",
       "                   random_state=0, verbose=2)"
      ]
     },
     "execution_count": 12,
     "metadata": {},
     "output_type": "execute_result"
    }
   ],
   "source": [
    "rf_random.fit(X_std, Y)"
   ]
  },
  {
   "cell_type": "code",
   "execution_count": 13,
   "id": "5f264f69",
   "metadata": {},
   "outputs": [
    {
     "name": "stdout",
     "output_type": "stream",
     "text": [
      "Random grid:  {'n_estimators': range(3, 200, 5), 'max_features': ['auto', 'sqrt'], 'max_depth': [10, 20, 30, 40, 50, 60, 70, 80, 90, 100, 110, 120], 'min_samples_split': [2, 6, 10], 'min_samples_leaf': [1, 3, 4], 'bootstrap': [True, False]} \n",
      "\n",
      "Best Parameters:  {'n_estimators': 113, 'min_samples_split': 10, 'min_samples_leaf': 4, 'max_features': 'sqrt', 'max_depth': 120, 'bootstrap': True}  \n",
      "\n",
      "Best Score:  0.83976003801378  \n",
      "\n",
      "Best Estimatore :  RandomForestClassifier(max_depth=120, max_features='sqrt', min_samples_leaf=4,\n",
      "                       min_samples_split=10, n_estimators=113, random_state=0) \n",
      "\n"
     ]
    }
   ],
   "source": [
    "print('Random grid: ', random_grid, '\\n')\n",
    "# print the best parameters\n",
    "print('Best Parameters: ', rf_random.best_params_, ' \\n')\n",
    "print('Best Score: ', rf_random.best_score_, ' \\n')\n",
    "print('Best Estimatore : ', rf_random.best_estimator_ ,'\\n')"
   ]
  },
  {
   "cell_type": "code",
   "execution_count": 14,
   "id": "2c55a60f",
   "metadata": {},
   "outputs": [
    {
     "name": "stdout",
     "output_type": "stream",
     "text": [
      "Train Accuracy :  91.74454828660437\n",
      "Test Accuracy :  85.14492753623189\n",
      "Bias Error :  0.8731077556083943\n",
      "Varience :  0.0186854168611879\n"
     ]
    }
   ],
   "source": [
    "rf_reg = RandomForestClassifier(max_depth=120, max_features='sqrt', min_samples_leaf=4,\n",
    "                       min_samples_split=10, n_estimators=113, random_state=0) \n",
    "\n",
    "rf_reg.fit(X_train,y_train)\n",
    "\n",
    "y_train_pred = rf_reg.predict(X_train)\n",
    "y_test_pred = rf_reg.predict(X_test)\n",
    "\n",
    "\n",
    "from sklearn import metrics\n",
    "\n",
    "acc_train=metrics.accuracy_score(y_train,y_train_pred)\n",
    "print(\"Train Accuracy : \",acc_train*100)\n",
    "acc_test=metrics.accuracy_score(y_test,y_test_pred)\n",
    "print(\"Test Accuracy : \",acc_test*100)\n",
    "\n",
    "from sklearn.model_selection import KFold,cross_val_score,GridSearchCV\n",
    "\n",
    "#validate model performance using K-fold Cross Validation using roc scoring\n",
    "kf=KFold(n_splits=5,shuffle=True,random_state=0)\n",
    "scores=cross_val_score(rf_reg,X_std,Y,cv=kf,scoring='f1_weighted')\n",
    "\n",
    "print(\"Bias Error : \",np.mean(scores))\n",
    "\n",
    "print(\"Varience : \",np.std(scores, ddof= 1))"
   ]
  },
  {
   "cell_type": "markdown",
   "id": "228de58a",
   "metadata": {},
   "source": [
    "# Random Forest with GridSearch CV"
   ]
  },
  {
   "cell_type": "code",
   "execution_count": null,
   "id": "e24b2f41",
   "metadata": {},
   "outputs": [],
   "source": [
    "from sklearn.ensemble import RandomForestClassifier\n",
    "from sklearn.model_selection import GridSearchCV\n",
    "RF=RandomForestClassifier(random_state=0)\n",
    "CV_rfc = GridSearchCV(estimator=RF, param_grid=random_grid, cv= 5)\n",
    "CV_rfc.fit(X_std, Y)"
   ]
  },
  {
   "cell_type": "code",
   "execution_count": null,
   "id": "cdf633a7",
   "metadata": {},
   "outputs": [],
   "source": [
    "print('Random grid: ', random_grid, '\\n')\n",
    "# print the best parameters\n",
    "print('Best Parameters: ', CV_rfc.best_params_, ' \\n')\n",
    "print('Best Score: ', CV_rfc.best_score_, ' \\n')\n",
    "print('Best Estimatore : ', CV_rfc.best_estimator_ ,'\\n')"
   ]
  },
  {
   "cell_type": "code",
   "execution_count": null,
   "id": "c15d58dd",
   "metadata": {},
   "outputs": [],
   "source": [
    "rf_reg = RandomForestClassifier(max_depth=120, max_features='sqrt', min_samples_leaf=4,\n",
    "                       min_samples_split=10, n_estimators=113, random_state=0) \n",
    "\n",
    "rf_reg.fit(X_train,y_train)\n",
    "\n",
    "y_train_pred = rf_reg.predict(X_train)\n",
    "y_test_pred = rf_reg.predict(X_test)\n",
    "\n",
    "\n",
    "from sklearn import metrics\n",
    "\n",
    "acc_train=metrics.accuracy_score(y_train,y_train_pred)\n",
    "print(\"Train Accuracy : \",acc_train*100)\n",
    "acc_test=metrics.accuracy_score(y_test,y_test_pred)\n",
    "print(\"Test Accuracy : \",acc_test*100)\n",
    "\n",
    "from sklearn.model_selection import KFold,cross_val_score,GridSearchCV\n",
    "\n",
    "#validate model performance using K-fold Cross Validation using roc scoring\n",
    "kf=KFold(n_splits=5,shuffle=True,random_state=0)\n",
    "scores=cross_val_score(rf_reg,X_std,Y,cv=kf,scoring='f1_weighted')\n",
    "\n",
    "print(\"Bias Error : \",np.mean(scores))\n",
    "\n",
    "print(\"Varience : \",np.std(scores, ddof= 1))"
   ]
  },
  {
   "cell_type": "markdown",
   "id": "4016a769",
   "metadata": {},
   "source": [
    "# AdaBoosting with DecisionTree"
   ]
  },
  {
   "cell_type": "code",
   "execution_count": 65,
   "id": "3293b0f6",
   "metadata": {},
   "outputs": [
    {
     "data": {
      "text/plain": [
       "GridSearchCV(cv=KFold(n_splits=5, random_state=0, shuffle=True),\n",
       "             estimator=AdaBoostClassifier(random_state=0),\n",
       "             param_grid={'n_estimators': array([ 2,  3,  4,  5,  6,  7,  8,  9, 10, 11, 12, 13, 14, 15, 16, 17, 18,\n",
       "       19, 20, 21, 22, 23, 24, 25, 26, 27, 28, 29, 30, 31, 32, 33, 34, 35,\n",
       "       36, 37, 38, 39, 40, 41, 42, 43, 44, 45, 46, 47, 48, 49, 50, 51, 52,\n",
       "       53, 54, 55, 56, 57, 58, 59, 60, 61, 62, 63, 64, 65, 66, 67, 68, 69,\n",
       "       70, 71, 72, 73, 74, 75, 76, 77, 78, 79, 80, 81, 82, 83, 84, 85, 86,\n",
       "       87, 88, 89, 90, 91, 92, 93, 94, 95, 96, 97, 98, 99])},\n",
       "             scoring='f1_weighted')"
      ]
     },
     "execution_count": 65,
     "metadata": {},
     "output_type": "execute_result"
    }
   ],
   "source": [
    "from sklearn.model_selection import GridSearchCV\n",
    "from sklearn.ensemble import AdaBoostClassifier\n",
    "ada = AdaBoostClassifier(random_state=0)\n",
    "params={'n_estimators':np.arange(10,250), 'learning_rate':[0.0001, 0.001, 0.01, 0.1, 1.0]}\n",
    "kf=KFold(n_splits=5,shuffle=True,random_state=0)\n",
    "GS=GridSearchCV(ada,params,cv=kf,scoring='f1_weighted')\n",
    "GS.fit(X_std,Y)"
   ]
  },
  {
   "cell_type": "code",
   "execution_count": 66,
   "id": "fe107399",
   "metadata": {},
   "outputs": [
    {
     "data": {
      "text/plain": [
       "0.8657987879450927"
      ]
     },
     "execution_count": 66,
     "metadata": {},
     "output_type": "execute_result"
    }
   ],
   "source": [
    "GS.best_score_"
   ]
  },
  {
   "cell_type": "markdown",
   "id": "966169f5",
   "metadata": {},
   "source": [
    "# AdaBoosting with GridSearch Tunning"
   ]
  },
  {
   "cell_type": "code",
   "execution_count": null,
   "id": "16446836",
   "metadata": {},
   "outputs": [],
   "source": [
    "model = AdaBoostClassifier()\n",
    "# define the grid of values to search\n",
    "ada_grid = dict()\n",
    "ada_grid['n_estimators'] = [10, 50, 100, 500]\n",
    "ada_grid['learning_rate'] = [0.0001, 0.001, 0.01, 0.1, 1.0]\n",
    "# define the evaluation procedure\n",
    "cv = RepeatedStratifiedKFold(n_splits=10, n_repeats=3, random_state=1)\n",
    "# define the grid search procedure\n",
    "ada_grid_search = GridSearchCV(estimator=model, param_grid=ada_grid, n_jobs=-1, cv=cv, scoring='accuracy')\n",
    "# execute the grid search\n",
    "ada_grid_search.fit(X, y)"
   ]
  },
  {
   "cell_type": "code",
   "execution_count": null,
   "id": "65247341",
   "metadata": {},
   "outputs": [],
   "source": [
    "print('Random grid: ', ada_grid, '\\n')\n",
    "# print the best parameters\n",
    "print('Best Parameters: ', ada_grid_search.best_params_, ' \\n')\n",
    "print('Best Score: ', ada_grid_search.best_score_, ' \\n')\n",
    "print('Best Estimatore : ', ada_grid_search.best_estimator_ ,'\\n')"
   ]
  },
  {
   "cell_type": "markdown",
   "id": "e3e4db38",
   "metadata": {},
   "source": [
    "ada_reg = RandomForestClassifier(max_depth=120, max_features='sqrt', min_samples_leaf=4,\n",
    "                       min_samples_split=10, n_estimators=113, random_state=0) \n",
    "\n",
    "ada_reg.fit(X_train,y_train)\n",
    "\n",
    "y_train_pred = ada_reg.predict(X_train)\n",
    "y_test_pred = ada_reg.predict(X_test)\n",
    "\n",
    "\n",
    "from sklearn import metrics\n",
    "\n",
    "acc_train=metrics.accuracy_score(y_train,y_train_pred)\n",
    "print(\"Train Accuracy : \",acc_train*100)\n",
    "acc_test=metrics.accuracy_score(y_test,y_test_pred)\n",
    "print(\"Test Accuracy : \",acc_test*100)\n",
    "\n",
    "from sklearn.model_selection import KFold,cross_val_score,GridSearchCV\n",
    "\n",
    "#validate model performance using K-fold Cross Validation using roc scoring\n",
    "kf=KFold(n_splits=5,shuffle=True,random_state=0)\n",
    "scores=cross_val_score(ada_reg,X_std,Y,cv=kf,scoring='f1_weighted')\n",
    "\n",
    "print(\"Bias Error : \",np.mean(scores))\n",
    "\n",
    "print(\"Varience : \",np.std(scores, ddof= 1))"
   ]
  },
  {
   "cell_type": "markdown",
   "id": "c0a6158f",
   "metadata": {},
   "source": [
    "# AdaBoosting with SVC"
   ]
  },
  {
   "cell_type": "code",
   "execution_count": null,
   "id": "596c95ae",
   "metadata": {},
   "outputs": [],
   "source": [
    "from sklearn.ensemble import AdaBoostClassifier\n",
    "# Import Support Vector Classifier\n",
    "from sklearn.svm import SVC\n",
    "#Import scikit-learn metrics module for accuracy calculation\n",
    "from sklearn import metrics\n",
    "svc=SVC(probability=True, kernel='linear')\n",
    "\n",
    "# Create adaboost classifer object\n",
    "abc =AdaBoostClassifier(n_estimators=50, base_estimator=svc,learning_rate=1)\n",
    "# Train Adaboost Classifer\n",
    "abc.fit(X_train, y_train)\n",
    "\n",
    "y_train_pred = abc.predict(X_train)\n",
    "y_test_pred = abc.predict(X_test)\n",
    "\n",
    "from sklearn import metrics\n",
    "\n",
    "acc_train=metrics.accuracy_score(y_train,y_train_pred)\n",
    "print(\"Train Accuracy : \",acc_train*100)\n",
    "acc_test=metrics.accuracy_score(y_test,y_test_pred)\n",
    "print(\"Test Accuracy : \",acc_test*100)\n",
    "\n",
    "from sklearn.model_selection import KFold,cross_val_score,GridSearchCV\n",
    "\n",
    "#validate model performance using K-fold Cross Validation using roc scoring\n",
    "kf=KFold(n_splits=5,shuffle=True,random_state=0)\n",
    "scores=cross_val_score(rf_reg,X_std,Y,cv=kf,scoring='f1_weighted')\n",
    "\n",
    "print(\"Bias Error : \",np.mean(scores))\n",
    "\n",
    "print(\"Varience : \",np.std(scores, ddof= 1))"
   ]
  }
 ],
 "metadata": {
  "kernelspec": {
   "display_name": "Python 3 (ipykernel)",
   "language": "python",
   "name": "python3"
  },
  "language_info": {
   "codemirror_mode": {
    "name": "ipython",
    "version": 3
   },
   "file_extension": ".py",
   "mimetype": "text/x-python",
   "name": "python",
   "nbconvert_exporter": "python",
   "pygments_lexer": "ipython3",
   "version": "3.8.13"
  }
 },
 "nbformat": 4,
 "nbformat_minor": 5
}
