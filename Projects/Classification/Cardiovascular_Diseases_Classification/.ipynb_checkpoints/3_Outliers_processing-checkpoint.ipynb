{
 "cells": [
  {
   "cell_type": "code",
   "execution_count": 1,
   "id": "c8deea88",
   "metadata": {
    "id": "c8deea88"
   },
   "outputs": [],
   "source": [
    "import pandas as pd\n",
    "import numpy as np\n",
    "import matplotlib.pyplot as plt\n",
    "import seaborn as sns\n",
    "%matplotlib inline"
   ]
  },
  {
   "cell_type": "code",
   "execution_count": 2,
   "id": "c9d0bc24",
   "metadata": {
    "id": "c9d0bc24"
   },
   "outputs": [],
   "source": [
    "df = pd.read_csv(\"Processed_heart.csv\")"
   ]
  },
  {
   "cell_type": "code",
   "execution_count": 3,
   "id": "064d4fea",
   "metadata": {
    "colab": {
     "base_uri": "https://localhost:8080/",
     "height": 215
    },
    "id": "064d4fea",
    "outputId": "0ca75e73-66de-46d7-c5e0-3483a51a7995"
   },
   "outputs": [
    {
     "data": {
      "text/html": [
       "\n",
       "  <div id=\"df-2bd3a7a8-6ab5-4dbe-9128-dd43863172bd\">\n",
       "    <div class=\"colab-df-container\">\n",
       "      <div>\n",
       "<style scoped>\n",
       "    .dataframe tbody tr th:only-of-type {\n",
       "        vertical-align: middle;\n",
       "    }\n",
       "\n",
       "    .dataframe tbody tr th {\n",
       "        vertical-align: top;\n",
       "    }\n",
       "\n",
       "    .dataframe thead th {\n",
       "        text-align: right;\n",
       "    }\n",
       "</style>\n",
       "<table border=\"1\" class=\"dataframe\">\n",
       "  <thead>\n",
       "    <tr style=\"text-align: right;\">\n",
       "      <th></th>\n",
       "      <th>Age</th>\n",
       "      <th>Sex</th>\n",
       "      <th>ChestPainType</th>\n",
       "      <th>RestingBP</th>\n",
       "      <th>Cholesterol</th>\n",
       "      <th>FastingBS</th>\n",
       "      <th>RestingECG</th>\n",
       "      <th>MaxHR</th>\n",
       "      <th>ExerciseAngina</th>\n",
       "      <th>Oldpeak</th>\n",
       "      <th>ST_Slope</th>\n",
       "      <th>HeartDisease</th>\n",
       "    </tr>\n",
       "  </thead>\n",
       "  <tbody>\n",
       "    <tr>\n",
       "      <th>0</th>\n",
       "      <td>40</td>\n",
       "      <td>0</td>\n",
       "      <td>0</td>\n",
       "      <td>140</td>\n",
       "      <td>289</td>\n",
       "      <td>0</td>\n",
       "      <td>0</td>\n",
       "      <td>172</td>\n",
       "      <td>0</td>\n",
       "      <td>0.0</td>\n",
       "      <td>0</td>\n",
       "      <td>0</td>\n",
       "    </tr>\n",
       "    <tr>\n",
       "      <th>1</th>\n",
       "      <td>49</td>\n",
       "      <td>1</td>\n",
       "      <td>1</td>\n",
       "      <td>160</td>\n",
       "      <td>180</td>\n",
       "      <td>0</td>\n",
       "      <td>0</td>\n",
       "      <td>156</td>\n",
       "      <td>0</td>\n",
       "      <td>1.0</td>\n",
       "      <td>1</td>\n",
       "      <td>1</td>\n",
       "    </tr>\n",
       "    <tr>\n",
       "      <th>2</th>\n",
       "      <td>37</td>\n",
       "      <td>0</td>\n",
       "      <td>0</td>\n",
       "      <td>130</td>\n",
       "      <td>283</td>\n",
       "      <td>0</td>\n",
       "      <td>1</td>\n",
       "      <td>98</td>\n",
       "      <td>0</td>\n",
       "      <td>0.0</td>\n",
       "      <td>0</td>\n",
       "      <td>0</td>\n",
       "    </tr>\n",
       "    <tr>\n",
       "      <th>3</th>\n",
       "      <td>48</td>\n",
       "      <td>1</td>\n",
       "      <td>2</td>\n",
       "      <td>138</td>\n",
       "      <td>214</td>\n",
       "      <td>0</td>\n",
       "      <td>0</td>\n",
       "      <td>108</td>\n",
       "      <td>1</td>\n",
       "      <td>1.5</td>\n",
       "      <td>1</td>\n",
       "      <td>1</td>\n",
       "    </tr>\n",
       "    <tr>\n",
       "      <th>4</th>\n",
       "      <td>54</td>\n",
       "      <td>0</td>\n",
       "      <td>1</td>\n",
       "      <td>150</td>\n",
       "      <td>195</td>\n",
       "      <td>0</td>\n",
       "      <td>0</td>\n",
       "      <td>122</td>\n",
       "      <td>0</td>\n",
       "      <td>0.0</td>\n",
       "      <td>0</td>\n",
       "      <td>0</td>\n",
       "    </tr>\n",
       "  </tbody>\n",
       "</table>\n",
       "</div>\n",
       "      <button class=\"colab-df-convert\" onclick=\"convertToInteractive('df-2bd3a7a8-6ab5-4dbe-9128-dd43863172bd')\"\n",
       "              title=\"Convert this dataframe to an interactive table.\"\n",
       "              style=\"display:none;\">\n",
       "        \n",
       "  <svg xmlns=\"http://www.w3.org/2000/svg\" height=\"24px\"viewBox=\"0 0 24 24\"\n",
       "       width=\"24px\">\n",
       "    <path d=\"M0 0h24v24H0V0z\" fill=\"none\"/>\n",
       "    <path d=\"M18.56 5.44l.94 2.06.94-2.06 2.06-.94-2.06-.94-.94-2.06-.94 2.06-2.06.94zm-11 1L8.5 8.5l.94-2.06 2.06-.94-2.06-.94L8.5 2.5l-.94 2.06-2.06.94zm10 10l.94 2.06.94-2.06 2.06-.94-2.06-.94-.94-2.06-.94 2.06-2.06.94z\"/><path d=\"M17.41 7.96l-1.37-1.37c-.4-.4-.92-.59-1.43-.59-.52 0-1.04.2-1.43.59L10.3 9.45l-7.72 7.72c-.78.78-.78 2.05 0 2.83L4 21.41c.39.39.9.59 1.41.59.51 0 1.02-.2 1.41-.59l7.78-7.78 2.81-2.81c.8-.78.8-2.07 0-2.86zM5.41 20L4 18.59l7.72-7.72 1.47 1.35L5.41 20z\"/>\n",
       "  </svg>\n",
       "      </button>\n",
       "      \n",
       "  <style>\n",
       "    .colab-df-container {\n",
       "      display:flex;\n",
       "      flex-wrap:wrap;\n",
       "      gap: 12px;\n",
       "    }\n",
       "\n",
       "    .colab-df-convert {\n",
       "      background-color: #E8F0FE;\n",
       "      border: none;\n",
       "      border-radius: 50%;\n",
       "      cursor: pointer;\n",
       "      display: none;\n",
       "      fill: #1967D2;\n",
       "      height: 32px;\n",
       "      padding: 0 0 0 0;\n",
       "      width: 32px;\n",
       "    }\n",
       "\n",
       "    .colab-df-convert:hover {\n",
       "      background-color: #E2EBFA;\n",
       "      box-shadow: 0px 1px 2px rgba(60, 64, 67, 0.3), 0px 1px 3px 1px rgba(60, 64, 67, 0.15);\n",
       "      fill: #174EA6;\n",
       "    }\n",
       "\n",
       "    [theme=dark] .colab-df-convert {\n",
       "      background-color: #3B4455;\n",
       "      fill: #D2E3FC;\n",
       "    }\n",
       "\n",
       "    [theme=dark] .colab-df-convert:hover {\n",
       "      background-color: #434B5C;\n",
       "      box-shadow: 0px 1px 3px 1px rgba(0, 0, 0, 0.15);\n",
       "      filter: drop-shadow(0px 1px 2px rgba(0, 0, 0, 0.3));\n",
       "      fill: #FFFFFF;\n",
       "    }\n",
       "  </style>\n",
       "\n",
       "      <script>\n",
       "        const buttonEl =\n",
       "          document.querySelector('#df-2bd3a7a8-6ab5-4dbe-9128-dd43863172bd button.colab-df-convert');\n",
       "        buttonEl.style.display =\n",
       "          google.colab.kernel.accessAllowed ? 'block' : 'none';\n",
       "\n",
       "        async function convertToInteractive(key) {\n",
       "          const element = document.querySelector('#df-2bd3a7a8-6ab5-4dbe-9128-dd43863172bd');\n",
       "          const dataTable =\n",
       "            await google.colab.kernel.invokeFunction('convertToInteractive',\n",
       "                                                     [key], {});\n",
       "          if (!dataTable) return;\n",
       "\n",
       "          const docLinkHtml = 'Like what you see? Visit the ' +\n",
       "            '<a target=\"_blank\" href=https://colab.research.google.com/notebooks/data_table.ipynb>data table notebook</a>'\n",
       "            + ' to learn more about interactive tables.';\n",
       "          element.innerHTML = '';\n",
       "          dataTable['output_type'] = 'display_data';\n",
       "          await google.colab.output.renderOutput(dataTable, element);\n",
       "          const docLink = document.createElement('div');\n",
       "          docLink.innerHTML = docLinkHtml;\n",
       "          element.appendChild(docLink);\n",
       "        }\n",
       "      </script>\n",
       "    </div>\n",
       "  </div>\n",
       "  "
      ],
      "text/plain": [
       "   Age  Sex  ChestPainType  RestingBP  Cholesterol  FastingBS  RestingECG  \\\n",
       "0   40    0              0        140          289          0           0   \n",
       "1   49    1              1        160          180          0           0   \n",
       "2   37    0              0        130          283          0           1   \n",
       "3   48    1              2        138          214          0           0   \n",
       "4   54    0              1        150          195          0           0   \n",
       "\n",
       "   MaxHR  ExerciseAngina  Oldpeak  ST_Slope  HeartDisease  \n",
       "0    172               0      0.0         0             0  \n",
       "1    156               0      1.0         1             1  \n",
       "2     98               0      0.0         0             0  \n",
       "3    108               1      1.5         1             1  \n",
       "4    122               0      0.0         0             0  "
      ]
     },
     "execution_count": 3,
     "metadata": {},
     "output_type": "execute_result"
    }
   ],
   "source": [
    "df.head()"
   ]
  },
  {
   "cell_type": "code",
   "execution_count": 4,
   "id": "7f6b3ec7",
   "metadata": {
    "id": "7f6b3ec7"
   },
   "outputs": [],
   "source": [
    "import sklearn"
   ]
  },
  {
   "cell_type": "code",
   "execution_count": 5,
   "id": "2885530e",
   "metadata": {
    "id": "2885530e"
   },
   "outputs": [],
   "source": [
    "def remove_outliner(df,col):\n",
    "    Q1 = np.percentile(df[col], 25,\n",
    "                           interpolation = 'midpoint')\n",
    "\n",
    "    Q3 = np.percentile(df[col], 75,\n",
    "                           interpolation = 'midpoint')\n",
    "    IQR = Q3 - Q1\n",
    "\n",
    "    print(f\"{col} Old Shape: \", df.shape)\n",
    "\n",
    "    # Upper bound\n",
    "    upper = np.where(df[col] >= (Q3+1.5*IQR))\n",
    "    # Lower bound\n",
    "    lower = np.where(df[col] <= (Q1-1.5*IQR))\n",
    "\n",
    "    ''' Removing the Outliers '''\n",
    "    df.drop(upper[0], inplace = True)\n",
    "    df.drop(lower[0], inplace = True)\n",
    "\n",
    "    print(f\"{col} New Shape: \", df.shape)\n",
    "    \n",
    "    return df"
   ]
  },
  {
   "cell_type": "code",
   "execution_count": 6,
   "id": "0a5f4ede",
   "metadata": {
    "colab": {
     "base_uri": "https://localhost:8080/"
    },
    "id": "0a5f4ede",
    "outputId": "d7cf0762-9a4c-4930-e141-7c45064e9a15"
   },
   "outputs": [
    {
     "name": "stdout",
     "output_type": "stream",
     "text": [
      "Cholesterol Old Shape:  (918, 12)\n",
      "Cholesterol New Shape:  (735, 12)\n"
     ]
    }
   ],
   "source": [
    "df = remove_outliner(df,'Cholesterol')"
   ]
  },
  {
   "cell_type": "code",
   "execution_count": 7,
   "id": "a47dc60c",
   "metadata": {
    "colab": {
     "base_uri": "https://localhost:8080/"
    },
    "id": "a47dc60c",
    "outputId": "a978608d-ef92-4fcd-913c-59d5d6ca2602"
   },
   "outputs": [
    {
     "name": "stdout",
     "output_type": "stream",
     "text": [
      "RestingBP Old Shape:  (735, 12)\n",
      "RestingBP New Shape:  (703, 12)\n"
     ]
    }
   ],
   "source": [
    "df = df.reset_index(drop=True)\n",
    "df = remove_outliner(df,'RestingBP')"
   ]
  },
  {
   "cell_type": "code",
   "execution_count": 8,
   "id": "812c56da",
   "metadata": {
    "colab": {
     "base_uri": "https://localhost:8080/"
    },
    "id": "812c56da",
    "outputId": "9a82b041-cb5e-437c-f03e-b4e17d56c4ac"
   },
   "outputs": [
    {
     "name": "stdout",
     "output_type": "stream",
     "text": [
      "MaxHR Old Shape:  (703, 12)\n",
      "MaxHR New Shape:  (703, 12)\n"
     ]
    }
   ],
   "source": [
    "df = df.reset_index(drop=True)\n",
    "df = remove_outliner(df,'MaxHR')"
   ]
  },
  {
   "cell_type": "code",
   "execution_count": 9,
   "id": "eb977b2f",
   "metadata": {
    "id": "eb977b2f"
   },
   "outputs": [],
   "source": [
    "df.to_csv(\"process_outlier_data.csv\",header=True,index=False)"
   ]
  },
  {
   "cell_type": "code",
   "execution_count": 10,
   "id": "71abba39",
   "metadata": {
    "colab": {
     "base_uri": "https://localhost:8080/",
     "height": 206
    },
    "id": "71abba39",
    "outputId": "eb9497ec-3c30-47f6-ab19-57725fa1705d"
   },
   "outputs": [
    {
     "data": {
      "text/html": [
       "\n",
       "  <div id=\"df-72116353-809a-49ec-a900-974a42eb7238\">\n",
       "    <div class=\"colab-df-container\">\n",
       "      <div>\n",
       "<style scoped>\n",
       "    .dataframe tbody tr th:only-of-type {\n",
       "        vertical-align: middle;\n",
       "    }\n",
       "\n",
       "    .dataframe tbody tr th {\n",
       "        vertical-align: top;\n",
       "    }\n",
       "\n",
       "    .dataframe thead th {\n",
       "        text-align: right;\n",
       "    }\n",
       "</style>\n",
       "<table border=\"1\" class=\"dataframe\">\n",
       "  <thead>\n",
       "    <tr style=\"text-align: right;\">\n",
       "      <th></th>\n",
       "      <th>Age</th>\n",
       "      <th>Sex</th>\n",
       "      <th>ChestPainType</th>\n",
       "      <th>RestingBP</th>\n",
       "      <th>Cholesterol</th>\n",
       "      <th>FastingBS</th>\n",
       "      <th>RestingECG</th>\n",
       "      <th>MaxHR</th>\n",
       "      <th>ExerciseAngina</th>\n",
       "      <th>Oldpeak</th>\n",
       "      <th>ST_Slope</th>\n",
       "      <th>HeartDisease</th>\n",
       "    </tr>\n",
       "  </thead>\n",
       "  <tbody>\n",
       "    <tr>\n",
       "      <th>0</th>\n",
       "      <td>40</td>\n",
       "      <td>0</td>\n",
       "      <td>0</td>\n",
       "      <td>140</td>\n",
       "      <td>289</td>\n",
       "      <td>0</td>\n",
       "      <td>0</td>\n",
       "      <td>172</td>\n",
       "      <td>0</td>\n",
       "      <td>0.0</td>\n",
       "      <td>0</td>\n",
       "      <td>0</td>\n",
       "    </tr>\n",
       "    <tr>\n",
       "      <th>1</th>\n",
       "      <td>49</td>\n",
       "      <td>1</td>\n",
       "      <td>1</td>\n",
       "      <td>160</td>\n",
       "      <td>180</td>\n",
       "      <td>0</td>\n",
       "      <td>0</td>\n",
       "      <td>156</td>\n",
       "      <td>0</td>\n",
       "      <td>1.0</td>\n",
       "      <td>1</td>\n",
       "      <td>1</td>\n",
       "    </tr>\n",
       "    <tr>\n",
       "      <th>2</th>\n",
       "      <td>37</td>\n",
       "      <td>0</td>\n",
       "      <td>0</td>\n",
       "      <td>130</td>\n",
       "      <td>283</td>\n",
       "      <td>0</td>\n",
       "      <td>1</td>\n",
       "      <td>98</td>\n",
       "      <td>0</td>\n",
       "      <td>0.0</td>\n",
       "      <td>0</td>\n",
       "      <td>0</td>\n",
       "    </tr>\n",
       "    <tr>\n",
       "      <th>3</th>\n",
       "      <td>48</td>\n",
       "      <td>1</td>\n",
       "      <td>2</td>\n",
       "      <td>138</td>\n",
       "      <td>214</td>\n",
       "      <td>0</td>\n",
       "      <td>0</td>\n",
       "      <td>108</td>\n",
       "      <td>1</td>\n",
       "      <td>1.5</td>\n",
       "      <td>1</td>\n",
       "      <td>1</td>\n",
       "    </tr>\n",
       "    <tr>\n",
       "      <th>4</th>\n",
       "      <td>54</td>\n",
       "      <td>0</td>\n",
       "      <td>1</td>\n",
       "      <td>150</td>\n",
       "      <td>195</td>\n",
       "      <td>0</td>\n",
       "      <td>0</td>\n",
       "      <td>122</td>\n",
       "      <td>0</td>\n",
       "      <td>0.0</td>\n",
       "      <td>0</td>\n",
       "      <td>0</td>\n",
       "    </tr>\n",
       "  </tbody>\n",
       "</table>\n",
       "</div>\n",
       "      <button class=\"colab-df-convert\" onclick=\"convertToInteractive('df-72116353-809a-49ec-a900-974a42eb7238')\"\n",
       "              title=\"Convert this dataframe to an interactive table.\"\n",
       "              style=\"display:none;\">\n",
       "        \n",
       "  <svg xmlns=\"http://www.w3.org/2000/svg\" height=\"24px\"viewBox=\"0 0 24 24\"\n",
       "       width=\"24px\">\n",
       "    <path d=\"M0 0h24v24H0V0z\" fill=\"none\"/>\n",
       "    <path d=\"M18.56 5.44l.94 2.06.94-2.06 2.06-.94-2.06-.94-.94-2.06-.94 2.06-2.06.94zm-11 1L8.5 8.5l.94-2.06 2.06-.94-2.06-.94L8.5 2.5l-.94 2.06-2.06.94zm10 10l.94 2.06.94-2.06 2.06-.94-2.06-.94-.94-2.06-.94 2.06-2.06.94z\"/><path d=\"M17.41 7.96l-1.37-1.37c-.4-.4-.92-.59-1.43-.59-.52 0-1.04.2-1.43.59L10.3 9.45l-7.72 7.72c-.78.78-.78 2.05 0 2.83L4 21.41c.39.39.9.59 1.41.59.51 0 1.02-.2 1.41-.59l7.78-7.78 2.81-2.81c.8-.78.8-2.07 0-2.86zM5.41 20L4 18.59l7.72-7.72 1.47 1.35L5.41 20z\"/>\n",
       "  </svg>\n",
       "      </button>\n",
       "      \n",
       "  <style>\n",
       "    .colab-df-container {\n",
       "      display:flex;\n",
       "      flex-wrap:wrap;\n",
       "      gap: 12px;\n",
       "    }\n",
       "\n",
       "    .colab-df-convert {\n",
       "      background-color: #E8F0FE;\n",
       "      border: none;\n",
       "      border-radius: 50%;\n",
       "      cursor: pointer;\n",
       "      display: none;\n",
       "      fill: #1967D2;\n",
       "      height: 32px;\n",
       "      padding: 0 0 0 0;\n",
       "      width: 32px;\n",
       "    }\n",
       "\n",
       "    .colab-df-convert:hover {\n",
       "      background-color: #E2EBFA;\n",
       "      box-shadow: 0px 1px 2px rgba(60, 64, 67, 0.3), 0px 1px 3px 1px rgba(60, 64, 67, 0.15);\n",
       "      fill: #174EA6;\n",
       "    }\n",
       "\n",
       "    [theme=dark] .colab-df-convert {\n",
       "      background-color: #3B4455;\n",
       "      fill: #D2E3FC;\n",
       "    }\n",
       "\n",
       "    [theme=dark] .colab-df-convert:hover {\n",
       "      background-color: #434B5C;\n",
       "      box-shadow: 0px 1px 3px 1px rgba(0, 0, 0, 0.15);\n",
       "      filter: drop-shadow(0px 1px 2px rgba(0, 0, 0, 0.3));\n",
       "      fill: #FFFFFF;\n",
       "    }\n",
       "  </style>\n",
       "\n",
       "      <script>\n",
       "        const buttonEl =\n",
       "          document.querySelector('#df-72116353-809a-49ec-a900-974a42eb7238 button.colab-df-convert');\n",
       "        buttonEl.style.display =\n",
       "          google.colab.kernel.accessAllowed ? 'block' : 'none';\n",
       "\n",
       "        async function convertToInteractive(key) {\n",
       "          const element = document.querySelector('#df-72116353-809a-49ec-a900-974a42eb7238');\n",
       "          const dataTable =\n",
       "            await google.colab.kernel.invokeFunction('convertToInteractive',\n",
       "                                                     [key], {});\n",
       "          if (!dataTable) return;\n",
       "\n",
       "          const docLinkHtml = 'Like what you see? Visit the ' +\n",
       "            '<a target=\"_blank\" href=https://colab.research.google.com/notebooks/data_table.ipynb>data table notebook</a>'\n",
       "            + ' to learn more about interactive tables.';\n",
       "          element.innerHTML = '';\n",
       "          dataTable['output_type'] = 'display_data';\n",
       "          await google.colab.output.renderOutput(dataTable, element);\n",
       "          const docLink = document.createElement('div');\n",
       "          docLink.innerHTML = docLinkHtml;\n",
       "          element.appendChild(docLink);\n",
       "        }\n",
       "      </script>\n",
       "    </div>\n",
       "  </div>\n",
       "  "
      ],
      "text/plain": [
       "   Age  Sex  ChestPainType  RestingBP  Cholesterol  FastingBS  RestingECG  \\\n",
       "0   40    0              0        140          289          0           0   \n",
       "1   49    1              1        160          180          0           0   \n",
       "2   37    0              0        130          283          0           1   \n",
       "3   48    1              2        138          214          0           0   \n",
       "4   54    0              1        150          195          0           0   \n",
       "\n",
       "   MaxHR  ExerciseAngina  Oldpeak  ST_Slope  HeartDisease  \n",
       "0    172               0      0.0         0             0  \n",
       "1    156               0      1.0         1             1  \n",
       "2     98               0      0.0         0             0  \n",
       "3    108               1      1.5         1             1  \n",
       "4    122               0      0.0         0             0  "
      ]
     },
     "execution_count": 10,
     "metadata": {},
     "output_type": "execute_result"
    }
   ],
   "source": [
    "df = pd.read_csv(\"process_outlier_data.csv\")\n",
    "df.head()"
   ]
  },
  {
   "cell_type": "code",
   "execution_count": 11,
   "id": "e8baffcb",
   "metadata": {
    "id": "e8baffcb"
   },
   "outputs": [],
   "source": [
    "from sklearn.model_selection import train_test_split\n",
    "from sklearn.model_selection import RandomizedSearchCV\n",
    "from sklearn import metrics\n",
    "from sklearn.model_selection import KFold,cross_val_score\n",
    "from sklearn.model_selection import RepeatedStratifiedKFold\n",
    "\n",
    "\n",
    "def train_model_with_tunning(model,param, X_std, Y):\n",
    "    \n",
    "    cv = RepeatedStratifiedKFold(n_splits=10, n_repeats=3, random_state=1)\n",
    "    \n",
    "    X_train, X_test, y_train, y_test = train_test_split(X_std, Y, test_size=0.30, random_state=0)\n",
    "    reg_random_cv = RandomizedSearchCV(estimator = model,param_distributions = param,\n",
    "               n_iter = 100, cv = cv, verbose=2, random_state=0, n_jobs = -1,scoring='f1_weighted')\n",
    "    reg_random_cv.fit(X_std, Y)\n",
    "    \n",
    "    print('Random grid: ', reg_random_cv, '\\n')\n",
    "    print('Best Parameters: ', reg_random_cv.best_params_, ' \\n')\n",
    "    print('Best Score: ', reg_random_cv.best_score_, ' \\n')\n",
    "    print('Best Estimatore : ', reg_random_cv.best_estimator_ ,'\\n')\n",
    "    \n",
    "    reg_model = reg_random_cv.best_estimator_ \n",
    "\n",
    "    reg_model.fit(X_train,y_train)\n",
    "\n",
    "    y_train_pred = reg_model.predict(X_train)\n",
    "    y_test_pred = reg_model.predict(X_test)\n",
    "    \n",
    "    acc_train=metrics.accuracy_score(y_train,y_train_pred)\n",
    "    print(\"Train Accuracy : \",acc_train*100)\n",
    "    acc_test=metrics.accuracy_score(y_test,y_test_pred)\n",
    "    print(\"Test Accuracy : \",acc_test*100)\n",
    "\n",
    "\n",
    "    #validate model performance using K-fold Cross Validation using roc scoring\n",
    "    kf=KFold(n_splits=5,shuffle=True,random_state=0)\n",
    "    scores=cross_val_score(reg_model,X_std,Y,cv=cv,scoring='f1_weighted')\n",
    "    print(\"Bias Error : \",np.mean(scores))\n",
    "\n",
    "    print(\"Varience : \",np.std(scores, ddof= 1))"
   ]
  },
  {
   "cell_type": "code",
   "execution_count": 12,
   "id": "b3d7f55d",
   "metadata": {
    "id": "b3d7f55d"
   },
   "outputs": [],
   "source": [
    "X=df[['Age','Sex','ChestPainType','Cholesterol','MaxHR','RestingBP','FastingBS','RestingECG','ExerciseAngina', 'Oldpeak', 'ST_Slope']]\n",
    "Y=df['HeartDisease']"
   ]
  },
  {
   "cell_type": "code",
   "execution_count": 13,
   "id": "cbc4c560",
   "metadata": {
    "id": "cbc4c560"
   },
   "outputs": [],
   "source": [
    "from sklearn.preprocessing import StandardScaler\n",
    "sc=StandardScaler()\n",
    "X_std=sc.fit_transform(X)"
   ]
  },
  {
   "cell_type": "code",
   "execution_count": 14,
   "id": "2feee6ad",
   "metadata": {
    "id": "2feee6ad"
   },
   "outputs": [],
   "source": [
    "from sklearn.tree import DecisionTreeClassifier\n",
    "DT = DecisionTreeClassifier(random_state=0)\n",
    "DT_params={'max_depth':np.arange(2,10),\n",
    "        'criterion':['entropy','gini']}"
   ]
  },
  {
   "cell_type": "code",
   "execution_count": 15,
   "id": "2c4940de",
   "metadata": {
    "id": "2c4940de"
   },
   "outputs": [],
   "source": [
    "from sklearn.ensemble import RandomForestClassifier\n",
    "RF=RandomForestClassifier(random_state=0)\n",
    "\n",
    "RF_params = {'n_estimators': range(3,200,5), # number of trees in the random forest\n",
    "'max_features': ['auto', 'sqrt'], # number of features in consideration at every split\n",
    "'max_depth': [int(x) for x in np.linspace(10, 120, num = 12)], # maximum number of levels allowed in each decision tree\n",
    "'min_samples_split': [2, 6, 10], # minimum sample number to split a node\n",
    "'min_samples_leaf': [1, 3, 4], # minimum sample number that can be stored in a leaf node\n",
    "'bootstrap': [True, False] }# method used to sample data points"
   ]
  },
  {
   "cell_type": "code",
   "execution_count": 16,
   "id": "24e05e22",
   "metadata": {
    "id": "24e05e22"
   },
   "outputs": [],
   "source": [
    "from sklearn.ensemble import AdaBoostClassifier\n",
    "ada = AdaBoostClassifier(random_state=0)\n",
    "ada_params={'n_estimators':np.arange(10,250), 'learning_rate':[0.0001, 0.001, 0.01, 0.1, 1.0]}"
   ]
  },
  {
   "cell_type": "code",
   "execution_count": 17,
   "id": "ff8bc6da",
   "metadata": {
    "colab": {
     "base_uri": "https://localhost:8080/"
    },
    "id": "ff8bc6da",
    "outputId": "8c9bd69b-2920-4c35-ea03-a191e32960d7"
   },
   "outputs": [
    {
     "name": "stdout",
     "output_type": "stream",
     "text": [
      "Fitting 30 folds for each of 16 candidates, totalling 480 fits\n"
     ]
    },
    {
     "name": "stderr",
     "output_type": "stream",
     "text": [
      "/usr/local/lib/python3.7/dist-packages/sklearn/model_selection/_search.py:296: UserWarning: The total space of parameters 16 is smaller than n_iter=100. Running 16 iterations. For exhaustive searches, use GridSearchCV.\n",
      "  UserWarning,\n"
     ]
    },
    {
     "name": "stdout",
     "output_type": "stream",
     "text": [
      "Random grid:  RandomizedSearchCV(cv=RepeatedStratifiedKFold(n_repeats=3, n_splits=10, random_state=1),\n",
      "                   estimator=DecisionTreeClassifier(random_state=0), n_iter=100,\n",
      "                   n_jobs=-1,\n",
      "                   param_distributions={'criterion': ['entropy', 'gini'],\n",
      "                                        'max_depth': array([2, 3, 4, 5, 6, 7, 8, 9])},\n",
      "                   random_state=0, verbose=2) \n",
      "\n",
      "Best Parameters:  {'max_depth': 3, 'criterion': 'entropy'}  \n",
      "\n",
      "Best Score:  0.8321327967806841  \n",
      "\n",
      "Best Estimatore :  DecisionTreeClassifier(criterion='entropy', max_depth=3, random_state=0) \n",
      "\n",
      "Train Accuracy :  85.97560975609755\n",
      "Test Accuracy :  83.88625592417061\n",
      "Bias Error :  0.8317302589859347\n",
      "Varience :  0.03782710725306688\n"
     ]
    }
   ],
   "source": [
    "train_model_with_tunning(model=DT,param=DT_params, X_std=X_std, Y=Y)"
   ]
  },
  {
   "cell_type": "code",
   "execution_count": 18,
   "id": "52054bc9",
   "metadata": {
    "colab": {
     "base_uri": "https://localhost:8080/"
    },
    "id": "52054bc9",
    "outputId": "8068d9b3-b316-43d6-8b69-e4e34f757852"
   },
   "outputs": [
    {
     "name": "stdout",
     "output_type": "stream",
     "text": [
      "Fitting 30 folds for each of 100 candidates, totalling 3000 fits\n",
      "Random grid:  RandomizedSearchCV(cv=RepeatedStratifiedKFold(n_repeats=3, n_splits=10, random_state=1),\n",
      "                   estimator=RandomForestClassifier(random_state=0), n_iter=100,\n",
      "                   n_jobs=-1,\n",
      "                   param_distributions={'bootstrap': [True, False],\n",
      "                                        'max_depth': [10, 20, 30, 40, 50, 60,\n",
      "                                                      70, 80, 90, 100, 110,\n",
      "                                                      120],\n",
      "                                        'max_features': ['auto', 'sqrt'],\n",
      "                                        'min_samples_leaf': [1, 3, 4],\n",
      "                                        'min_samples_split': [2, 6, 10],\n",
      "                                        'n_estimators': range(3, 200, 5)},\n",
      "                   random_state=0, verbose=2) \n",
      "\n",
      "Best Parameters:  {'n_estimators': 63, 'min_samples_split': 10, 'min_samples_leaf': 3, 'max_features': 'sqrt', 'max_depth': 40, 'bootstrap': True}  \n",
      "\n",
      "Best Score:  0.8681287726358148  \n",
      "\n",
      "Best Estimatore :  RandomForestClassifier(max_depth=40, max_features='sqrt', min_samples_leaf=3,\n",
      "                       min_samples_split=10, n_estimators=63, random_state=0) \n",
      "\n",
      "Train Accuracy :  92.07317073170732\n",
      "Test Accuracy :  87.20379146919431\n",
      "Bias Error :  0.8678274096227583\n",
      "Varience :  0.04208907022159427\n"
     ]
    }
   ],
   "source": [
    "train_model_with_tunning(model=RF,param=RF_params, X_std=X_std, Y=Y)"
   ]
  },
  {
   "cell_type": "code",
   "execution_count": 19,
   "id": "1674721a",
   "metadata": {
    "colab": {
     "base_uri": "https://localhost:8080/"
    },
    "id": "1674721a",
    "outputId": "71cf0ad3-08b4-4dec-f5dd-b9b60d859062"
   },
   "outputs": [
    {
     "name": "stdout",
     "output_type": "stream",
     "text": [
      "Fitting 30 folds for each of 100 candidates, totalling 3000 fits\n",
      "Random grid:  RandomizedSearchCV(cv=RepeatedStratifiedKFold(n_repeats=3, n_splits=10, random_state=1),\n",
      "                   estimator=AdaBoostClassifier(random_state=0), n_iter=100,\n",
      "                   n_jobs=-1,\n",
      "                   param_distributions={'learning_rate': [0.0001, 0.001, 0.01,\n",
      "                                                          0.1, 1.0],\n",
      "                                        'n_estimators': array([ 10,  11,  12,  13,  14,  15,  16,  17,  18,  19,  20,  21,  22,\n",
      "        23,  24,  25,  26,  27,  28,  29,  30,  31,  32,  33,  34,  35,\n",
      "        36,  37,  38,  39,  40,  41,  42,  43,  44,  45,  46,...\n",
      "       166, 167, 168, 169, 170, 171, 172, 173, 174, 175, 176, 177, 178,\n",
      "       179, 180, 181, 182, 183, 184, 185, 186, 187, 188, 189, 190, 191,\n",
      "       192, 193, 194, 195, 196, 197, 198, 199, 200, 201, 202, 203, 204,\n",
      "       205, 206, 207, 208, 209, 210, 211, 212, 213, 214, 215, 216, 217,\n",
      "       218, 219, 220, 221, 222, 223, 224, 225, 226, 227, 228, 229, 230,\n",
      "       231, 232, 233, 234, 235, 236, 237, 238, 239, 240, 241, 242, 243,\n",
      "       244, 245, 246, 247, 248, 249])},\n",
      "                   random_state=0, verbose=2) \n",
      "\n",
      "Best Parameters:  {'n_estimators': 103, 'learning_rate': 0.1}  \n",
      "\n",
      "Best Score:  0.8639302481556003  \n",
      "\n",
      "Best Estimatore :  AdaBoostClassifier(learning_rate=0.1, n_estimators=103, random_state=0) \n",
      "\n",
      "Train Accuracy :  87.8048780487805\n",
      "Test Accuracy :  85.30805687203792\n",
      "Bias Error :  0.8635787163568889\n",
      "Varience :  0.04376661328887946\n"
     ]
    }
   ],
   "source": [
    "train_model_with_tunning(model=ada,param=ada_params, X_std=X_std, Y=Y)"
   ]
  },
  {
   "cell_type": "code",
   "execution_count": null,
   "id": "9e283d8f",
   "metadata": {
    "id": "9e283d8f"
   },
   "outputs": [],
   "source": []
  }
 ],
 "metadata": {
  "colab": {
   "collapsed_sections": [],
   "name": "3-Outliers-processing.ipynb",
   "provenance": []
  },
  "kernelspec": {
   "display_name": "Python 3 (ipykernel)",
   "language": "python",
   "name": "python3"
  },
  "language_info": {
   "codemirror_mode": {
    "name": "ipython",
    "version": 3
   },
   "file_extension": ".py",
   "mimetype": "text/x-python",
   "name": "python",
   "nbconvert_exporter": "python",
   "pygments_lexer": "ipython3",
   "version": "3.8.13"
  }
 },
 "nbformat": 4,
 "nbformat_minor": 5
}
